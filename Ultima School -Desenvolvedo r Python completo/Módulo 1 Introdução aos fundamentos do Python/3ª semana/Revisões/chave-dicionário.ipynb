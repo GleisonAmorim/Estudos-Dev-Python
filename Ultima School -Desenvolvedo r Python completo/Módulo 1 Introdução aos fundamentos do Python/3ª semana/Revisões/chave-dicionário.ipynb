{
 "cells": [
  {
   "cell_type": "code",
   "execution_count": 3,
   "id": "2ad0fa7f-687c-4eec-9bcb-bb78b7a76c7b",
   "metadata": {},
   "outputs": [],
   "source": [
    "#Dicionarios:\n",
    "# chave --> valor\n",
    "# palavra --> significado\n",
    "# topico --> conteudo\n",
    "# nome --> numero de telefone\n",
    "# cpf --> cadastro\n"
   ]
  },
  {
   "cell_type": "code",
   "execution_count": 4,
   "id": "048a093f-543c-4385-ac69-2cc24b8cd290",
   "metadata": {},
   "outputs": [
    {
     "name": "stdout",
     "output_type": "stream",
     "text": [
      "{'a': 1, 'b': 2, 'c': 3}\n"
     ]
    }
   ],
   "source": [
    "meu_dicionario = {'a': 1, 'b' : 2, 'c' :3}\n",
    "print(meu_dicionario)"
   ]
  },
  {
   "cell_type": "code",
   "execution_count": 6,
   "id": "1bc4fee3-d49c-4dc1-a41f-2f30751068e4",
   "metadata": {},
   "outputs": [
    {
     "name": "stdout",
     "output_type": "stream",
     "text": [
      "1\n",
      "2\n",
      "3\n"
     ]
    }
   ],
   "source": [
    "print (meu_dicionario['a'])\n",
    "print (meu_dicionario['b'])\n",
    "print (meu_dicionario['c'])"
   ]
  },
  {
   "cell_type": "code",
   "execution_count": 7,
   "id": "7a25e067-bc78-4928-b9a7-3af5187a84de",
   "metadata": {},
   "outputs": [
    {
     "ename": "KeyError",
     "evalue": "'d'",
     "output_type": "error",
     "traceback": [
      "\u001b[1;31m---------------------------------------------------------------------------\u001b[0m",
      "\u001b[1;31mKeyError\u001b[0m                                  Traceback (most recent call last)",
      "Cell \u001b[1;32mIn[7], line 1\u001b[0m\n\u001b[1;32m----> 1\u001b[0m \u001b[38;5;28mprint\u001b[39m (\u001b[43mmeu_dicionario\u001b[49m\u001b[43m[\u001b[49m\u001b[38;5;124;43m'\u001b[39;49m\u001b[38;5;124;43md\u001b[39;49m\u001b[38;5;124;43m'\u001b[39;49m\u001b[43m]\u001b[49m)\n",
      "\u001b[1;31mKeyError\u001b[0m: 'd'"
     ]
    }
   ],
   "source": [
    "print (meu_dicionario['d'])"
   ]
  },
  {
   "cell_type": "code",
   "execution_count": 9,
   "id": "58ce8605-d640-4cc4-afa6-a9e35b2bbdde",
   "metadata": {},
   "outputs": [
    {
     "name": "stdout",
     "output_type": "stream",
     "text": [
      "4\n"
     ]
    }
   ],
   "source": [
    "meu_dicionario ['d'] = 4\n",
    "print (meu_dicionario ['d'])"
   ]
  },
  {
   "cell_type": "code",
   "execution_count": 12,
   "id": "55126fa0-1adc-4d4b-9379-01b6a38a0e9b",
   "metadata": {},
   "outputs": [
    {
     "name": "stdout",
     "output_type": "stream",
     "text": [
      "None\n"
     ]
    }
   ],
   "source": [
    "print (meu_dicionario.get('e'))"
   ]
  },
  {
   "cell_type": "code",
   "execution_count": 10,
   "id": "5fed8764-2e9c-433e-80f8-91739f49f610",
   "metadata": {},
   "outputs": [
    {
     "data": {
      "text/plain": [
       "['__class__',\n",
       " '__class_getitem__',\n",
       " '__contains__',\n",
       " '__delattr__',\n",
       " '__delitem__',\n",
       " '__dir__',\n",
       " '__doc__',\n",
       " '__eq__',\n",
       " '__format__',\n",
       " '__ge__',\n",
       " '__getattribute__',\n",
       " '__getitem__',\n",
       " '__getstate__',\n",
       " '__gt__',\n",
       " '__hash__',\n",
       " '__init__',\n",
       " '__init_subclass__',\n",
       " '__ior__',\n",
       " '__iter__',\n",
       " '__le__',\n",
       " '__len__',\n",
       " '__lt__',\n",
       " '__ne__',\n",
       " '__new__',\n",
       " '__or__',\n",
       " '__reduce__',\n",
       " '__reduce_ex__',\n",
       " '__repr__',\n",
       " '__reversed__',\n",
       " '__ror__',\n",
       " '__setattr__',\n",
       " '__setitem__',\n",
       " '__sizeof__',\n",
       " '__str__',\n",
       " '__subclasshook__',\n",
       " 'clear',\n",
       " 'copy',\n",
       " 'fromkeys',\n",
       " 'get',\n",
       " 'items',\n",
       " 'keys',\n",
       " 'pop',\n",
       " 'popitem',\n",
       " 'setdefault',\n",
       " 'update',\n",
       " 'values']"
      ]
     },
     "execution_count": 10,
     "metadata": {},
     "output_type": "execute_result"
    }
   ],
   "source": [
    "dir(dict)"
   ]
  },
  {
   "cell_type": "code",
   "execution_count": 13,
   "id": "9b9f2315-0aa4-41e8-bafc-b5e4dc9b2fb7",
   "metadata": {},
   "outputs": [
    {
     "name": "stdout",
     "output_type": "stream",
     "text": [
      "None\n"
     ]
    }
   ],
   "source": [
    "print (meu_dicionario.get('e'))"
   ]
  },
  {
   "cell_type": "code",
   "execution_count": 20,
   "id": "e0c87757-1995-4218-806e-47db0c180801",
   "metadata": {},
   "outputs": [
    {
     "name": "stdout",
     "output_type": "stream",
     "text": [
      "2\n"
     ]
    }
   ],
   "source": [
    "print (meu_dicionario.get('b', 'não existe'))"
   ]
  },
  {
   "cell_type": "code",
   "execution_count": 21,
   "id": "d034d35d-006a-4ff0-9fc8-e9ac813c50ab",
   "metadata": {},
   "outputs": [
    {
     "data": {
      "text/plain": [
       "<function dict.items>"
      ]
     },
     "execution_count": 21,
     "metadata": {},
     "output_type": "execute_result"
    }
   ],
   "source": [
    "meu_dicionario.items"
   ]
  },
  {
   "cell_type": "code",
   "execution_count": 22,
   "id": "6ef9c4a5-4e76-4dd5-8075-3e93edd9ec1d",
   "metadata": {},
   "outputs": [
    {
     "data": {
      "text/plain": [
       "dict_items([('a', 1), ('b', 2), ('c', 3), ('d', 4)])"
      ]
     },
     "execution_count": 22,
     "metadata": {},
     "output_type": "execute_result"
    }
   ],
   "source": [
    "meu_dicionario.items()"
   ]
  },
  {
   "cell_type": "code",
   "execution_count": 23,
   "id": "58f8ccf2-9220-40ef-a920-a2cb4ab0cd20",
   "metadata": {},
   "outputs": [
    {
     "data": {
      "text/plain": [
       "dict_keys(['a', 'b', 'c', 'd'])"
      ]
     },
     "execution_count": 23,
     "metadata": {},
     "output_type": "execute_result"
    }
   ],
   "source": [
    "meu_dicionario.keys()"
   ]
  },
  {
   "cell_type": "code",
   "execution_count": 24,
   "id": "3e031a7b-e945-4c04-8df4-528c9ea65975",
   "metadata": {},
   "outputs": [
    {
     "data": {
      "text/plain": [
       "dict_values([1, 2, 3, 4])"
      ]
     },
     "execution_count": 24,
     "metadata": {},
     "output_type": "execute_result"
    }
   ],
   "source": [
    "meu_dicionario.values()"
   ]
  },
  {
   "cell_type": "code",
   "execution_count": 25,
   "id": "61876983-3f97-4b2e-a8a6-589a578df7ce",
   "metadata": {},
   "outputs": [
    {
     "data": {
      "text/plain": [
       "[('a', 1), ('b', 2), ('c', 3), ('d', 4)]"
      ]
     },
     "execution_count": 25,
     "metadata": {},
     "output_type": "execute_result"
    }
   ],
   "source": [
    "list (meu_dicionario.items())"
   ]
  },
  {
   "cell_type": "code",
   "execution_count": 26,
   "id": "9730a6c8-6f5e-4c77-b8af-13d225741523",
   "metadata": {},
   "outputs": [
    {
     "data": {
      "text/plain": [
       "['a', 'b', 'c', 'd']"
      ]
     },
     "execution_count": 26,
     "metadata": {},
     "output_type": "execute_result"
    }
   ],
   "source": [
    "list (meu_dicionario.keys())"
   ]
  },
  {
   "cell_type": "code",
   "execution_count": 27,
   "id": "843e97bc-ccd1-4279-a8b1-96ea1c987766",
   "metadata": {},
   "outputs": [
    {
     "data": {
      "text/plain": [
       "[1, 2, 3, 4]"
      ]
     },
     "execution_count": 27,
     "metadata": {},
     "output_type": "execute_result"
    }
   ],
   "source": [
    "list (meu_dicionario.values())"
   ]
  },
  {
   "cell_type": "code",
   "execution_count": 28,
   "id": "f710038b-2c12-4902-b82c-d5b1abf7cce0",
   "metadata": {},
   "outputs": [
    {
     "name": "stdout",
     "output_type": "stream",
     "text": [
      "{1: 'z', 2: 'x', 3: 'j'}\n"
     ]
    }
   ],
   "source": [
    "numero_para_caractere = {1:'z', 2:'x', 3:'j'}\n",
    "print(numero_para_caractere)"
   ]
  },
  {
   "cell_type": "code",
   "execution_count": 35,
   "id": "a0e4ee37-d6b5-48e8-8b77-f9acd67b429b",
   "metadata": {},
   "outputs": [
    {
     "data": {
      "text/plain": [
       "'z'"
      ]
     },
     "execution_count": 35,
     "metadata": {},
     "output_type": "execute_result"
    }
   ],
   "source": [
    "numero_para_caractere.get (1, 'não está no dicionário')"
   ]
  },
  {
   "cell_type": "code",
   "execution_count": null,
   "id": "2be16989-8eee-4e63-b45c-f7e5f362c909",
   "metadata": {},
   "outputs": [],
   "source": []
  }
 ],
 "metadata": {
  "kernelspec": {
   "display_name": "Python 3 (ipykernel)",
   "language": "python",
   "name": "python3"
  },
  "language_info": {
   "codemirror_mode": {
    "name": "ipython",
    "version": 3
   },
   "file_extension": ".py",
   "mimetype": "text/x-python",
   "name": "python",
   "nbconvert_exporter": "python",
   "pygments_lexer": "ipython3",
   "version": "3.12.0"
  }
 },
 "nbformat": 4,
 "nbformat_minor": 5
}
