{
 "cells": [
  {
   "cell_type": "markdown",
   "metadata": {},
   "source": [
    "### Repetição"
   ]
  },
  {
   "cell_type": "code",
   "execution_count": 69,
   "metadata": {},
   "outputs": [
    {
     "name": "stdout",
     "output_type": "stream",
     "text": [
      "0 g\n",
      "1 l\n",
      "2 e\n",
      "3 i\n",
      "4 s\n",
      "5 o\n",
      "6 n\n",
      "7  \n",
      "8 a\n",
      "9 m\n",
      "10 o\n",
      "11 r\n",
      "12 i\n",
      "13 m\n"
     ]
    }
   ],
   "source": [
    "nome = 'gleison amorim'\n",
    "for c in range(14):\n",
    "    print(c, nome[c])\n",
    "\n",
    "\n",
    "    "
   ]
  },
  {
   "cell_type": "markdown",
   "metadata": {},
   "source": [
    "### Len() -> lenght-> Comprimnto/Tamanho"
   ]
  },
  {
   "cell_type": "code",
   "execution_count": 70,
   "metadata": {},
   "outputs": [
    {
     "name": "stdout",
     "output_type": "stream",
     "text": [
      "14\n"
     ]
    }
   ],
   "source": [
    "print(len('Gleison Amorim'))"
   ]
  },
  {
   "cell_type": "code",
   "execution_count": 71,
   "metadata": {},
   "outputs": [
    {
     "name": "stdout",
     "output_type": "stream",
     "text": [
      "22\n"
     ]
    }
   ],
   "source": [
    "nome = \"gleison amorim zendron\"\n",
    "tamanho = len(nome)\n",
    "print(tamanho)"
   ]
  },
  {
   "cell_type": "code",
   "execution_count": 72,
   "metadata": {},
   "outputs": [
    {
     "name": "stdout",
     "output_type": "stream",
     "text": [
      "22\n",
      "0 g\n",
      "1 l\n",
      "2 e\n",
      "3 i\n",
      "4 s\n",
      "5 o\n",
      "6 n\n",
      "7  \n",
      "8 a\n",
      "9 m\n",
      "10 o\n",
      "11 r\n",
      "12 i\n",
      "13 m\n",
      "14  \n",
      "15 z\n",
      "16 e\n",
      "17 n\n",
      "18 d\n",
      "19 r\n",
      "20 o\n",
      "21 n\n"
     ]
    }
   ],
   "source": [
    "nome = \"gleison amorim zendron\"\n",
    "tamanho = len(nome)\n",
    "print(tamanho)\n",
    "\n",
    "for c in range(tamanho):\n",
    "    print(c, nome[c])"
   ]
  },
  {
   "cell_type": "code",
   "execution_count": 73,
   "metadata": {},
   "outputs": [
    {
     "name": "stdout",
     "output_type": "stream",
     "text": [
      "amorim zendron\n"
     ]
    }
   ],
   "source": [
    "nome = \"gleison amorim zendron\"\n",
    "print(nome [8:])"
   ]
  },
  {
   "cell_type": "markdown",
   "metadata": {},
   "source": [
    "### Listas[]"
   ]
  },
  {
   "cell_type": "code",
   "execution_count": 74,
   "metadata": {},
   "outputs": [
    {
     "name": "stdout",
     "output_type": "stream",
     "text": [
      "Existem 9 clientes cadastrados na lista!\n",
      "0 gleison\n",
      "1 celia\n",
      "2 agata\n",
      "3 luca\n",
      "4 santana\n",
      "5 leoncio\n",
      "6 bruno\n",
      "7 juliana\n",
      "8 ana maria\n"
     ]
    }
   ],
   "source": [
    "#Trabalhando com listas de Strings\n",
    "#indices        0       1       2       3       4           5       6       7           8\n",
    "clientes = ['gleison','celia','agata','luca','santana','leoncio','bruno','juliana', 'ana maria'] #incluí todos os nomes na lista clientes\n",
    "tamanho = len(clientes)\n",
    "print(f'Existem {tamanho} clientes cadastrados na lista!')\n",
    "\n",
    "for cliente in range (tamanho):\n",
    "    print(cliente, clientes[cliente])"
   ]
  },
  {
   "cell_type": "code",
   "execution_count": 75,
   "metadata": {},
   "outputs": [
    {
     "name": "stdout",
     "output_type": "stream",
     "text": [
      "0 4.9 Leite\n",
      "1 5.7 Ovos\n",
      "2 39.99 Carne\n",
      "4.9\n",
      "5.7\n",
      "39.99\n",
      "Leite\n",
      "Ovos\n",
      "Carne\n",
      "0 Leite 4.9\n",
      "1 Ovos 5.7\n",
      "2 Carne 39.99\n"
     ]
    }
   ],
   "source": [
    "#Trabalhando com listas numéricas\n",
    "#indices\n",
    "precos = [4.90,5.70,39.99]\n",
    "produtos = ['Leite','Ovos','Carne']\n",
    "\n",
    "tamanho = len(precos)\n",
    "for indice in  range (tamanho):\n",
    "    print(indice, precos[indice], produtos[indice])\n",
    "    \n",
    "for preco in precos:\n",
    "    print(preco)\n",
    "\n",
    "for produto in produtos:\n",
    "    print(produto)\n",
    "    \n",
    "for indice, produto in enumerate(produtos):\n",
    "    print (indice, produto, precos[indice])\n",
    "    \n"
   ]
  },
  {
   "cell_type": "markdown",
   "metadata": {},
   "source": [
    "### Listas Mistas"
   ]
  },
  {
   "cell_type": "code",
   "execution_count": 81,
   "metadata": {},
   "outputs": [
    {
     "name": "stdout",
     "output_type": "stream",
     "text": [
      "[4.9, 'leite']\n",
      "[5.7, 'ovos']\n",
      "[39.99, 'Carne', 'desconto']\n",
      "leite\n",
      "ovos\n",
      "Carne\n"
     ]
    }
   ],
   "source": [
    "#indices        0               1                       2\n",
    "#indices     0         1       0      1         0       1       2   \n",
    "estoque = [[4.90, 'leite'], [5.70, 'ovos'], [39.99, 'Carne', 'desconto']]\n",
    "\n",
    "print (estoque[0])\n",
    "print (estoque[1])\n",
    "print (estoque[2])\n",
    "\n",
    "print (estoque[0][1])\n",
    "print (estoque[1][1])\n",
    "print (estoque[2][1])\n",
    "\n",
    "\n",
    "for produto in estoque:\n",
    "    preco = produto[0]\n",
    "    "
   ]
  },
  {
   "cell_type": "code",
   "execution_count": null,
   "metadata": {},
   "outputs": [],
   "source": []
  }
 ],
 "metadata": {
  "kernelspec": {
   "display_name": "Python 3",
   "language": "python",
   "name": "python3"
  },
  "language_info": {
   "codemirror_mode": {
    "name": "ipython",
    "version": 3
   },
   "file_extension": ".py",
   "mimetype": "text/x-python",
   "name": "python",
   "nbconvert_exporter": "python",
   "pygments_lexer": "ipython3",
   "version": "3.12.0"
  }
 },
 "nbformat": 4,
 "nbformat_minor": 2
}
