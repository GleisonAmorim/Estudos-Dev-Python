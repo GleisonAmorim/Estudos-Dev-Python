{
 "cells": [
  {
   "cell_type": "code",
   "execution_count": 38,
   "id": "81f06e19-3208-438d-a7ca-8f2b179caff0",
   "metadata": {},
   "outputs": [
    {
     "name": "stdout",
     "output_type": "stream",
     "text": [
      "['Bruno', 'Ana', 'ANAMA', 'ZeCa', 'paula']\n"
     ]
    }
   ],
   "source": [
    "nomes = ['Bruno', 'Ana', 'ANAMA', 'ZeCa','paula']\n",
    "print(nomes)"
   ]
  },
  {
   "cell_type": "code",
   "execution_count": 39,
   "id": "dedb2d74-cf3e-4afd-a6f6-925ace3572ca",
   "metadata": {},
   "outputs": [
    {
     "name": "stdout",
     "output_type": "stream",
     "text": [
      "bruno\n",
      "ana\n",
      "anama\n",
      "zeca\n",
      "paula\n"
     ]
    }
   ],
   "source": [
    "for i in nomes:\n",
    "    print(i.lower())"
   ]
  },
  {
   "cell_type": "code",
   "execution_count": 45,
   "id": "bcf4a37e-f8d1-49a0-b0e2-99e3dc3d73b8",
   "metadata": {},
   "outputs": [
    {
     "data": {
      "text/plain": [
       "[1, 2, 3, 4, 5, 6, 7, 8, 9]"
      ]
     },
     "execution_count": 45,
     "metadata": {},
     "output_type": "execute_result"
    }
   ],
   "source": [
    "list(range(1, 11))"
   ]
  },
  {
   "cell_type": "code",
   "execution_count": 51,
   "id": "ef2e0232-c3d5-43cb-adf4-df912238c47c",
   "metadata": {},
   "outputs": [
    {
     "name": "stdout",
     "output_type": "stream",
     "text": [
      "100\n",
      "200\n",
      "300\n",
      "400\n",
      "500\n",
      "600\n",
      "700\n",
      "800\n",
      "900\n",
      "1000\n"
     ]
    }
   ],
   "source": [
    "for i in range(1, 11):\n",
    "    print(i*100)"
   ]
  },
  {
   "cell_type": "code",
   "execution_count": 56,
   "id": "507fd9b8-dede-42b6-bb4b-08c86eca6de7",
   "metadata": {},
   "outputs": [
    {
     "data": {
      "text/plain": [
       "('Bruno', '14')"
      ]
     },
     "execution_count": 56,
     "metadata": {},
     "output_type": "execute_result"
    }
   ],
   "source": [
    "nomes = ['Bruno', 'Ana', 'ANAMA', 'ZeCa','paula']\n",
    "idades = ['14', '15', '16', '17','18']\n",
    "\n",
    "lista_de_tuplas = zip(nomes, idades)\n",
    "lista_de_tuplas"
   ]
  },
  {
   "cell_type": "code",
   "execution_count": 63,
   "id": "8e270f00-10f2-4560-afe4-20fcd1c399ae",
   "metadata": {},
   "outputs": [
    {
     "data": {
      "text/plain": [
       "[]"
      ]
     },
     "execution_count": 63,
     "metadata": {},
     "output_type": "execute_result"
    }
   ],
   "source": [
    "list(lista_de_tuplas)"
   ]
  },
  {
   "cell_type": "code",
   "execution_count": 64,
   "id": "34269f29-60e0-41c8-bc04-b4ce9914d406",
   "metadata": {},
   "outputs": [
    {
     "data": {
      "text/plain": [
       "[('Bruno', '14'),\n",
       " ('Ana', '15'),\n",
       " ('ANAMA', '16'),\n",
       " ('ZeCa', '17'),\n",
       " ('paula', '18')]"
      ]
     },
     "execution_count": 64,
     "metadata": {},
     "output_type": "execute_result"
    }
   ],
   "source": [
    "nomes = ['Bruno', 'Ana', 'ANAMA', 'ZeCa','paula']\n",
    "idades = ['14', '15', '16', '17','18']\n",
    "\n",
    "lista_de_tuplas = zip(nomes, idades)\n",
    "lista_de_tuplas\n",
    "\n",
    "list(lista_de_tuplas)"
   ]
  },
  {
   "cell_type": "code",
   "execution_count": 83,
   "id": "5e0acb40-2962-4159-adef-14f15e22e2a9",
   "metadata": {},
   "outputs": [
    {
     "name": "stdout",
     "output_type": "stream",
     "text": [
      "Bruno tem 14 anos\n",
      "Ana tem 15 anos\n",
      "Anama tem 16 anos\n",
      "Zeca tem 17 anos\n",
      "Paula tem 18 anos\n"
     ]
    }
   ],
   "source": [
    "nomes = ['Bruno', 'Ana', 'ANAMA', 'ZeCa','paula']\n",
    "idades = [14, 15, 16, 17,18,26]\n",
    "lista_de_tuplas = zip(nomes, idades)\n",
    "for nome, idade in lista_de_tuplas:\n",
    "    print(f'{nome} tem {idade} anos'.capitalize())"
   ]
  },
  {
   "cell_type": "code",
   "execution_count": 84,
   "id": "63233b8a-d0f3-49c0-a4b3-776357ce018a",
   "metadata": {},
   "outputs": [
    {
     "name": "stdout",
     "output_type": "stream",
     "text": [
      "Indice: 5 é maior de idade.\n"
     ]
    }
   ],
   "source": [
    "for indice, idade in enumerate(idades):\n",
    "    if idade > 18:\n",
    "        print(f'Indice: {indice} é maior de idade.')"
   ]
  },
  {
   "cell_type": "code",
   "execution_count": 86,
   "id": "77f359d7-dc18-46a3-a932-cfeb2605fdb4",
   "metadata": {},
   "outputs": [
    {
     "data": {
      "text/plain": [
       "15"
      ]
     },
     "execution_count": 86,
     "metadata": {},
     "output_type": "execute_result"
    }
   ],
   "source": [
    "idades[1]"
   ]
  },
  {
   "cell_type": "code",
   "execution_count": 97,
   "id": "5225d0c2-162b-4daf-ae82-eb70830b7956",
   "metadata": {},
   "outputs": [
    {
     "data": {
      "text/plain": [
       "['Bruno', 'Ana', 'ANAMA', 'ZeCa', 'paula']"
      ]
     },
     "execution_count": 97,
     "metadata": {},
     "output_type": "execute_result"
    }
   ],
   "source": [
    "nomes"
   ]
  },
  {
   "cell_type": "code",
   "execution_count": 100,
   "id": "542c4173-d1f7-4302-a4d3-680265e01e7a",
   "metadata": {},
   "outputs": [
    {
     "name": "stdout",
     "output_type": "stream",
     "text": [
      "['Ana']\n"
     ]
    }
   ],
   "source": [
    "nomes_com_ate_3_chars = [nome for nome in nomes if len(nome) <= 3]\n",
    "print(nomes_com_ate_3_chars)"
   ]
  },
  {
   "cell_type": "code",
   "execution_count": 102,
   "id": "11383755-105f-4078-a556-63887e089ce3",
   "metadata": {},
   "outputs": [
    {
     "name": "stdin",
     "output_type": "stream",
     "text": [
      "Digite a frase:  Gleison Amorim Zemdron\n",
      "Digite qual letra você deseja contar:  e\n"
     ]
    },
    {
     "name": "stdout",
     "output_type": "stream",
     "text": [
      "<function contagem_letras at 0x000001F3E718B6A0>\n"
     ]
    }
   ],
   "source": [
    "def contagem_letras(letra):\n",
    "    if letra in frase == letra:\n",
    "        return len (letra)    \n",
    "\n",
    "\n",
    "frase = input('Digite a frase: ')\n",
    "letra = input('Digite qual letra você deseja contar: ')\n",
    "print (contagem_letras)"
   ]
  },
  {
   "cell_type": "code",
   "execution_count": 104,
   "id": "6ebe352e-f6a1-424b-999c-5a377b31af48",
   "metadata": {},
   "outputs": [
    {
     "name": "stdout",
     "output_type": "stream",
     "text": [
      "Total da letra {letras} contidas na frase digitada é: {contagem_letras}\n"
     ]
    },
    {
     "name": "stdin",
     "output_type": "stream",
     "text": [
      "Digite a frase:  amanha eu vou para a escola\n",
      "Digite qual letra você deseja contar:  a\n"
     ]
    },
    {
     "name": "stdout",
     "output_type": "stream",
     "text": [
      "22\n"
     ]
    }
   ],
   "source": [
    "frases=frase\n",
    "contagem_letras = 0\n",
    "for letra in frase:\n",
    "    contagem_letras += 1\n",
    "print ('Total da letra {letras} contidas na frase digitada é: {contagem_letras}')\n",
    "\n",
    "frase = input('Digite a frase: ')\n",
    "letras = input('Digite qual letra você deseja contar: ')\n",
    "print (contagem_letras)"
   ]
  },
  {
   "cell_type": "code",
   "execution_count": null,
   "id": "9ecf9591-cd45-46c7-b13a-c140317259b5",
   "metadata": {},
   "outputs": [],
   "source": []
  }
 ],
 "metadata": {
  "kernelspec": {
   "display_name": "Python 3 (ipykernel)",
   "language": "python",
   "name": "python3"
  },
  "language_info": {
   "codemirror_mode": {
    "name": "ipython",
    "version": 3
   },
   "file_extension": ".py",
   "mimetype": "text/x-python",
   "name": "python",
   "nbconvert_exporter": "python",
   "pygments_lexer": "ipython3",
   "version": "3.12.0"
  }
 },
 "nbformat": 4,
 "nbformat_minor": 5
}
