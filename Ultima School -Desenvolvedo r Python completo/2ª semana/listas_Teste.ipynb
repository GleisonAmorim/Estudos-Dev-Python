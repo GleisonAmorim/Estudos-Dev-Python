{
 "cells": [
  {
   "cell_type": "code",
   "execution_count": 1,
   "id": "3c111e63-c3d6-4302-b0b0-03636cdc7e99",
   "metadata": {},
   "outputs": [
    {
     "name": "stdout",
     "output_type": "stream",
     "text": [
      "[0, 2, 4, 6]\n"
     ]
    }
   ],
   "source": [
    "print ([0, 2, 4, 6])\n"
   ]
  },
  {
   "cell_type": "code",
   "execution_count": 2,
   "id": "20e1e571-355b-4262-ac58-4180c74e2db6",
   "metadata": {},
   "outputs": [
    {
     "name": "stdout",
     "output_type": "stream",
     "text": [
      "[0, 2, 4, 6] <class 'list'>\n"
     ]
    }
   ],
   "source": [
    "minha_lista = [0,2,4,6]\n",
    "print(minha_lista, type(minha_lista))"
   ]
  },
  {
   "cell_type": "code",
   "execution_count": 4,
   "id": "40b02fa2-9835-4136-9621-6b5f1724f69d",
   "metadata": {},
   "outputs": [],
   "source": [
    "minha_lista.append(8)"
   ]
  },
  {
   "cell_type": "code",
   "execution_count": 5,
   "id": "15104dd3-efe7-455c-ba24-75c7e175eab6",
   "metadata": {},
   "outputs": [
    {
     "name": "stdout",
     "output_type": "stream",
     "text": [
      "[0, 2, 4, 6, 85, 8]\n"
     ]
    }
   ],
   "source": [
    "print(minha_lista)"
   ]
  },
  {
   "cell_type": "code",
   "execution_count": 9,
   "id": "230879cf-1789-40e8-b297-392967d0df64",
   "metadata": {},
   "outputs": [
    {
     "data": {
      "text/plain": [
       "8"
      ]
     },
     "execution_count": 9,
     "metadata": {},
     "output_type": "execute_result"
    }
   ],
   "source": [
    "minha_lista[5]"
   ]
  },
  {
   "cell_type": "code",
   "execution_count": 25,
   "id": "3c1b92b0-f4ec-452f-9e34-7b7ef0082d4d",
   "metadata": {},
   "outputs": [
    {
     "name": "stdout",
     "output_type": "stream",
     "text": [
      "['joao', 'bruno', 'larissa', 'paula', 'rafaela', 'pedro']\n"
     ]
    },
    {
     "data": {
      "text/plain": [
       "['joao', 'larissa', 'rafaela']"
      ]
     },
     "execution_count": 25,
     "metadata": {},
     "output_type": "execute_result"
    }
   ],
   "source": [
    "lista_de_nomes = [ 'joao','bruno','larissa','paula','rafaela','pedro']\n",
    "print(lista_de_nomes)\n",
    "lista_de_nomes [::2]"
   ]
  },
  {
   "cell_type": "code",
   "execution_count": 26,
   "id": "e67ddac9-1dfc-4f55-a9db-35e92df48aaf",
   "metadata": {},
   "outputs": [
    {
     "data": {
      "text/plain": [
       "['pedro', 'rafaela', 'paula', 'larissa', 'bruno', 'joao']"
      ]
     },
     "execution_count": 26,
     "metadata": {},
     "output_type": "execute_result"
    }
   ],
   "source": [
    "lista_de_nomes[::-1]"
   ]
  },
  {
   "cell_type": "code",
   "execution_count": 27,
   "id": "0f43dd31-a4c0-4075-8b39-66cecaaf42c2",
   "metadata": {},
   "outputs": [],
   "source": [
    "lista_de_nomes.append('gleison')"
   ]
  },
  {
   "cell_type": "code",
   "execution_count": 28,
   "id": "7e96dbaa-a1a9-4083-a685-3490c5528ed0",
   "metadata": {},
   "outputs": [
    {
     "name": "stdout",
     "output_type": "stream",
     "text": [
      "['joao', 'bruno', 'larissa', 'paula', 'rafaela', 'pedro', 'gleison']\n"
     ]
    }
   ],
   "source": [
    "print (lista_de_nomes)"
   ]
  },
  {
   "cell_type": "code",
   "execution_count": 29,
   "id": "7c229464-488b-43b2-8f9d-f6680ae695ea",
   "metadata": {},
   "outputs": [
    {
     "data": {
      "text/plain": [
       "['In',\n",
       " 'Out',\n",
       " '_',\n",
       " '_13',\n",
       " '_14',\n",
       " '_15',\n",
       " '_16',\n",
       " '_17',\n",
       " '_18',\n",
       " '_19',\n",
       " '_20',\n",
       " '_21',\n",
       " '_22',\n",
       " '_23',\n",
       " '_24',\n",
       " '_25',\n",
       " '_26',\n",
       " '_6',\n",
       " '_7',\n",
       " '_8',\n",
       " '_9',\n",
       " '__',\n",
       " '___',\n",
       " '__builtin__',\n",
       " '__builtins__',\n",
       " '__doc__',\n",
       " '__loader__',\n",
       " '__name__',\n",
       " '__package__',\n",
       " '__session__',\n",
       " '__spec__',\n",
       " '_dh',\n",
       " '_i',\n",
       " '_i1',\n",
       " '_i10',\n",
       " '_i11',\n",
       " '_i12',\n",
       " '_i13',\n",
       " '_i14',\n",
       " '_i15',\n",
       " '_i16',\n",
       " '_i17',\n",
       " '_i18',\n",
       " '_i19',\n",
       " '_i2',\n",
       " '_i20',\n",
       " '_i21',\n",
       " '_i22',\n",
       " '_i23',\n",
       " '_i24',\n",
       " '_i25',\n",
       " '_i26',\n",
       " '_i27',\n",
       " '_i28',\n",
       " '_i29',\n",
       " '_i3',\n",
       " '_i4',\n",
       " '_i5',\n",
       " '_i6',\n",
       " '_i7',\n",
       " '_i8',\n",
       " '_i9',\n",
       " '_ih',\n",
       " '_ii',\n",
       " '_iii',\n",
       " '_oh',\n",
       " 'exit',\n",
       " 'get_ipython',\n",
       " 'lista_de_nomes',\n",
       " 'minha_lista',\n",
       " 'open',\n",
       " 'quit']"
      ]
     },
     "execution_count": 29,
     "metadata": {},
     "output_type": "execute_result"
    }
   ],
   "source": [
    "dir()\n"
   ]
  },
  {
   "cell_type": "code",
   "execution_count": null,
   "id": "c8d767c2-c39a-4b1f-beab-078130b9f3e9",
   "metadata": {},
   "outputs": [],
   "source": []
  }
 ],
 "metadata": {
  "kernelspec": {
   "display_name": "Python 3 (ipykernel)",
   "language": "python",
   "name": "python3"
  },
  "language_info": {
   "codemirror_mode": {
    "name": "ipython",
    "version": 3
   },
   "file_extension": ".py",
   "mimetype": "text/x-python",
   "name": "python",
   "nbconvert_exporter": "python",
   "pygments_lexer": "ipython3",
   "version": "3.12.0"
  }
 },
 "nbformat": 4,
 "nbformat_minor": 5
}
