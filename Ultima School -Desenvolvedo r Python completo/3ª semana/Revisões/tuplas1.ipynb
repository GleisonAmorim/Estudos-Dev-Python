{
 "cells": [
  {
   "cell_type": "code",
   "execution_count": 1,
   "id": "21147d3c-c4e8-45c4-99ad-2b464fcfc5b4",
   "metadata": {},
   "outputs": [
    {
     "name": "stdout",
     "output_type": "stream",
     "text": [
      "('gleison', 29, 12345) <class 'tuple'>\n"
     ]
    }
   ],
   "source": [
    "cadastro = 'gleison', 29, 12345\n",
    "print (cadastro, type(cadastro"
   ]
  },
  {
   "cell_type": "code",
   "execution_count": 4,
   "id": "fc988724-6049-4b1d-8b6f-5ac754205461",
   "metadata": {},
   "outputs": [
    {
     "name": "stdout",
     "output_type": "stream",
     "text": [
      "gleison\n",
      "29\n",
      "12345\n"
     ]
    }
   ],
   "source": [
    "cadastro = ('gleison', 29, 12345)\n",
    "nome, idade, codigo = cadastro \n",
    "print (nome) \n",
    "print (idade) \n",
    "print (codigo)"
   ]
  },
  {
   "cell_type": "code",
   "execution_count": 6,
   "id": "60125bdc-6e21-4284-8730-62d5c4060d49",
   "metadata": {},
   "outputs": [
    {
     "ename": "TypeError",
     "evalue": "'tuple' object does not support item assignment",
     "output_type": "error",
     "traceback": [
      "\u001b[1;31m---------------------------------------------------------------------------\u001b[0m",
      "\u001b[1;31mTypeError\u001b[0m                                 Traceback (most recent call last)",
      "Cell \u001b[1;32mIn[6], line 1\u001b[0m\n\u001b[1;32m----> 1\u001b[0m \u001b[43mcadastro\u001b[49m\u001b[43m \u001b[49m\u001b[43m[\u001b[49m\u001b[38;5;241;43m1\u001b[39;49m\u001b[43m]\u001b[49m \u001b[38;5;241m=\u001b[39m \u001b[38;5;241m25\u001b[39m\n",
      "\u001b[1;31mTypeError\u001b[0m: 'tuple' object does not support item assignment"
     ]
    }
   ],
   "source": [
    "cadastro [1]"
   ]
  },
  {
   "cell_type": "code",
   "execution_count": 8,
   "id": "a1b7b6a8-66f8-4788-a09f-7ed011678b53",
   "metadata": {},
   "outputs": [
    {
     "data": {
      "text/plain": [
       "('gleison', 35, 12345)"
      ]
     },
     "execution_count": 8,
     "metadata": {},
     "output_type": "execute_result"
    }
   ],
   "source": [
    "cadastro = cadastro[0], 35, cadastro [2]\n",
    "cadastro"
   ]
  },
  {
   "cell_type": "code",
   "execution_count": 10,
   "id": "59c98533-3dbf-4263-881a-0495dd20639a",
   "metadata": {},
   "outputs": [
    {
     "name": "stdout",
     "output_type": "stream",
     "text": [
      "('gleison', 29, 12345, 'SP') 4\n"
     ]
    }
   ],
   "source": [
    "cadastro = 'gleison', 29, 12345, 'SP'\n",
    "print(cadastro, len(cadastro))\n"
   ]
  },
  {
   "cell_type": "code",
   "execution_count": 11,
   "id": "9c1b1d79-c6d6-4a02-8faa-088ee2552187",
   "metadata": {},
   "outputs": [],
   "source": [
    "nome, idade, _, _ = cadastro"
   ]
  },
  {
   "cell_type": "code",
   "execution_count": 12,
   "id": "7f0ff307-2e59-497d-a6e3-8a0d7922f407",
   "metadata": {},
   "outputs": [
    {
     "data": {
      "text/plain": [
       "('gleison', 29)"
      ]
     },
     "execution_count": 12,
     "metadata": {},
     "output_type": "execute_result"
    }
   ],
   "source": [
    "nome, idade"
   ]
  },
  {
   "cell_type": "code",
   "execution_count": 13,
   "id": "9cabadd3-1a40-4868-b1da-1eef9dffee90",
   "metadata": {},
   "outputs": [],
   "source": [
    "nome, idade, *restante = cadastro"
   ]
  },
  {
   "cell_type": "code",
   "execution_count": 14,
   "id": "8635ed44-d5b2-4e03-9e09-4bad35c5f70d",
   "metadata": {},
   "outputs": [
    {
     "name": "stdout",
     "output_type": "stream",
     "text": [
      "gleison 29 [12345, 'SP']\n"
     ]
    }
   ],
   "source": [
    "print(nome, idade, restante)"
   ]
  },
  {
   "cell_type": "code",
   "execution_count": 15,
   "id": "2bcc689b-ede3-44e5-b912-ff12aa80e601",
   "metadata": {},
   "outputs": [
    {
     "data": {
      "text/plain": [
       "2"
      ]
     },
     "execution_count": 15,
     "metadata": {},
     "output_type": "execute_result"
    }
   ],
   "source": [
    "len(restante)"
   ]
  },
  {
   "cell_type": "code",
   "execution_count": 17,
   "id": "0e4ee5e0-e814-4f5f-b4d4-7a362aab70d4",
   "metadata": {},
   "outputs": [
    {
     "name": "stdout",
     "output_type": "stream",
     "text": [
      "('gleison', 29, 12345, 'SP', [])\n"
     ]
    }
   ],
   "source": [
    "cadastro = ('gleison', 29, 12345, 'SP', [])\n",
    "print(cadastro)"
   ]
  },
  {
   "cell_type": "code",
   "execution_count": 18,
   "id": "5540e7f9-b6cd-44a6-b91f-2249fbcc1b05",
   "metadata": {},
   "outputs": [],
   "source": [
    "from datetime import datetime\n",
    "cadastro [-1].append(datetime.today())"
   ]
  },
  {
   "cell_type": "code",
   "execution_count": null,
   "id": "6d2494bb-bce2-4f6b-bddc-7ca300f2ce4a",
   "metadata": {},
   "outputs": [],
   "source": []
  }
 ],
 "metadata": {
  "kernelspec": {
   "display_name": "Python 3 (ipykernel)",
   "language": "python",
   "name": "python3"
  },
  "language_info": {
   "codemirror_mode": {
    "name": "ipython",
    "version": 3
   },
   "file_extension": ".py",
   "mimetype": "text/x-python",
   "name": "python",
   "nbconvert_exporter": "python",
   "pygments_lexer": "ipython3",
   "version": "3.12.0"
  }
 },
 "nbformat": 4,
 "nbformat_minor": 5
}
