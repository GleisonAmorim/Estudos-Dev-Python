{
 "cells": [
  {
   "cell_type": "markdown",
   "metadata": {},
   "source": [
    "### Objetos"
   ]
  },
  {
   "cell_type": "markdown",
   "metadata": {},
   "source": [
    "Objetos - são representações de entidades físicas ou lógicas do mundo real, e entidades que possamos identificar e representar através de características e/ou ações.\n",
    "- Exemplos de objetos são: cachorro; cadeira; computador; geladeira; matérias da faculdade; um e-mail. Já exemplo de coisas que não são objetos: o tempo; o amor; a velocidade etc."
   ]
  },
  {
   "cell_type": "markdown",
   "metadata": {},
   "source": [
    "### Classes"
   ]
  },
  {
   "cell_type": "markdown",
   "metadata": {},
   "source": [
    "Classes - São as formas como esses objetos serão representados, e cada objeto representa uma “instância” de uma classe, isto é, uma representação real de uma classe. E são nas classes que definimos quais são os atributos (características) e as ações que aquela classe tem.\n",
    "- Trazendo esses exemplos para o mundo real, vamos imaginar a classe Cachorro. Os cachorros possuem características como nome, raça, comprimento, peso, entre outras. Mas os cachorros também realizam ações como latir, morder, dormir, brincar, comer, entre outras. "
   ]
  },
  {
   "cell_type": "code",
   "execution_count": 25,
   "metadata": {},
   "outputs": [],
   "source": [
    "class Cachorro:\n",
    "    def __init__ (self, nome: str, raca: str, comprimento: float, peso: float):\n",
    "        self.nome = nome\n",
    "        self.raca = raca\n",
    "        self.comprimento = comprimento\n",
    "        self.peso = peso\n",
    "        \n",
    "    def latir(self):\n",
    "        print(f'Au au! Eu sou o (a) {self.nome}')\n",
    "    \n",
    "    def morder(self):\n",
    "        print(f'O(a) cachorro (a) {self.nome} me mordeu!')\n",
    "        \n",
    "    def dormir(self):\n",
    "        print('ZZZZzzzzzz...')\n",
    "        \n",
    "    def brincar(self):\n",
    "        print('Eu gosto de brincar de bolinha!')\n",
    "        \n",
    "    def brincar(self):\n",
    "        print (f'Eu peso {self.peso} kg e preciso comer {self.peso * 1000 * 0.01} de comida para ficar satisfeito(a)!')\n",
    "     "
   ]
  },
  {
   "cell_type": "code",
   "execution_count": 26,
   "metadata": {},
   "outputs": [],
   "source": [
    "becca = Cachorro(\"Becca\", 'West', 65 , 7)"
   ]
  },
  {
   "cell_type": "code",
   "execution_count": 27,
   "metadata": {},
   "outputs": [
    {
     "data": {
      "text/plain": [
       "<__main__.Cachorro at 0x1a5adf87a10>"
      ]
     },
     "execution_count": 27,
     "metadata": {},
     "output_type": "execute_result"
    }
   ],
   "source": [
    "becca"
   ]
  },
  {
   "cell_type": "code",
   "execution_count": 28,
   "metadata": {},
   "outputs": [
    {
     "data": {
      "text/plain": [
       "'Becca'"
      ]
     },
     "execution_count": 28,
     "metadata": {},
     "output_type": "execute_result"
    }
   ],
   "source": [
    "becca.nome"
   ]
  },
  {
   "cell_type": "code",
   "execution_count": 29,
   "metadata": {},
   "outputs": [
    {
     "data": {
      "text/plain": [
       "'West'"
      ]
     },
     "execution_count": 29,
     "metadata": {},
     "output_type": "execute_result"
    }
   ],
   "source": [
    "becca.raca"
   ]
  },
  {
   "cell_type": "code",
   "execution_count": 30,
   "metadata": {},
   "outputs": [
    {
     "data": {
      "text/plain": [
       "__main__.Cachorro"
      ]
     },
     "execution_count": 30,
     "metadata": {},
     "output_type": "execute_result"
    }
   ],
   "source": [
    "type(becca)"
   ]
  },
  {
   "cell_type": "code",
   "execution_count": 31,
   "metadata": {},
   "outputs": [],
   "source": [
    "milka = Cachorro('Milka','Biewer', 40, 2)"
   ]
  },
  {
   "cell_type": "code",
   "execution_count": 32,
   "metadata": {},
   "outputs": [
    {
     "data": {
      "text/plain": [
       "<__main__.Cachorro at 0x1a5adf84140>"
      ]
     },
     "execution_count": 32,
     "metadata": {},
     "output_type": "execute_result"
    }
   ],
   "source": [
    "milka"
   ]
  },
  {
   "cell_type": "code",
   "execution_count": 33,
   "metadata": {},
   "outputs": [
    {
     "name": "stdout",
     "output_type": "stream",
     "text": [
      "Au au! Eu sou o (a) Milka\n"
     ]
    }
   ],
   "source": [
    "milka.latir()"
   ]
  },
  {
   "cell_type": "code",
   "execution_count": 34,
   "metadata": {},
   "outputs": [
    {
     "name": "stdout",
     "output_type": "stream",
     "text": [
      "Au au! Eu sou o (a) Becca\n"
     ]
    }
   ],
   "source": [
    "becca.latir()"
   ]
  },
  {
   "cell_type": "code",
   "execution_count": null,
   "metadata": {},
   "outputs": [],
   "source": []
  }
 ],
 "metadata": {
  "kernelspec": {
   "display_name": "Python 3",
   "language": "python",
   "name": "python3"
  },
  "language_info": {
   "codemirror_mode": {
    "name": "ipython",
    "version": 3
   },
   "file_extension": ".py",
   "mimetype": "text/x-python",
   "name": "python",
   "nbconvert_exporter": "python",
   "pygments_lexer": "ipython3",
   "version": "3.12.0"
  }
 },
 "nbformat": 4,
 "nbformat_minor": 2
}
