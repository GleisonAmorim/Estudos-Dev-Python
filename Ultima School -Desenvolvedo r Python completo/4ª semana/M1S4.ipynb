{
 "cells": [
  {
   "cell_type": "code",
   "execution_count": 5,
   "metadata": {},
   "outputs": [
    {
     "name": "stdout",
     "output_type": "stream",
     "text": [
      "Cliente: Rafaela maia CPF: 41341341311 Idade: 50\n",
      "Cliente: bruno felipe CPF: 50550550599 Idade: 80\n",
      "Cliente: gleison CPF: 41541541588 Idade: 50\n",
      "Cliente: bruno CPF: 80090030099 Idade: 25\n",
      "Cliente: rafa CPF: 41141141188 Idade: 18\n"
     ]
    }
   ],
   "source": [
    "clientes = []  # lista vazia para armazenar os clientes\n",
    "\n",
    "for i in range(5):\n",
    "    cliente = {}  # dicionário vazio para armazenar os dados do cliente\n",
    "\n",
    "    nome = input(\"Digite o nome do cliente: \")  # informações do cliente\n",
    "    cpf = input(\"Digite o CPF do cliente: \")  # informações do cliente\n",
    "    idade = int(input(\"Digite a idade do cliente: \"))  # informações do cliente\n",
    "\n",
    "    cliente[\"Nome\"] = nome  # preenchendo o dicionário do cliente com as informações coletadas\n",
    "    cliente[\"CPF\"] = cpf  # preenchendo o dicionário do cliente com as informações coletadas\n",
    "    cliente[\"Idade\"] = idade  # preenchendo o dicionário do cliente com as informações coletadas\n",
    "\n",
    "    clientes.append(cliente)  # adicionando o dicionário do cliente à lista de clientes\n",
    "\n",
    "# imprimindo as informações formatadas\n",
    "for cliente in clientes:\n",
    "    print(\"Cliente:\", cliente[\"Nome\"], \"CPF:\", cliente[\"CPF\"], \"Idade:\", cliente[\"Idade\"])\n"
   ]
  },
  {
   "cell_type": "code",
   "execution_count": 6,
   "metadata": {},
   "outputs": [
    {
     "name": "stdout",
     "output_type": "stream",
     "text": [
      "Cliente: ana CPF: 414141 Idade: 39\n",
      "Cliente: anaeedu CPF: 41414155 Idade: 28\n",
      "Cliente: rafaela CPF: 55855855885 Idade: 48\n",
      "Cliente: brunaaaa CPF: 90090090088 Idade: 28\n",
      "Cliente: lais CPF: 48548448577 Idade: 39\n"
     ]
    }
   ],
   "source": [
    "class Cliente:\n",
    "    def __init__(self, nome, cpf, idade):\n",
    "        self.nome = nome\n",
    "        self.cpf = cpf\n",
    "        self.idade = idade\n",
    "\n",
    "# lista vazia para armazenar os clientes\n",
    "clientes = []\n",
    "\n",
    "# loop para coletar informações de 5 clientes\n",
    "for i in range(5):\n",
    "    nome = input(\"Digite o nome do cliente: \")\n",
    "    cpf = input(\"Digite o CPF do cliente: \")\n",
    "    idade = int(input(\"Digite a idade do cliente: \"))\n",
    "    \n",
    "    #  Objeto Cliente com as informações coletadas\n",
    "    cliente = Cliente(nome, cpf, idade)\n",
    "    \n",
    "    # Adicionando o objeto cliente à lista de clientes\n",
    "    clientes.append(cliente)\n",
    "\n",
    "# Imprimindo as informações formatadas\n",
    "for cliente in clientes:\n",
    "    print(\"Cliente:\", cliente.nome, \"CPF:\", cliente.cpf, \"Idade:\", cliente.idade)"
   ]
  }
 ],
 "metadata": {
  "kernelspec": {
   "display_name": "Python 3",
   "language": "python",
   "name": "python3"
  },
  "language_info": {
   "codemirror_mode": {
    "name": "ipython",
    "version": 3
   },
   "file_extension": ".py",
   "mimetype": "text/x-python",
   "name": "python",
   "nbconvert_exporter": "python",
   "pygments_lexer": "ipython3",
   "version": "3.12.0"
  }
 },
 "nbformat": 4,
 "nbformat_minor": 2
}
