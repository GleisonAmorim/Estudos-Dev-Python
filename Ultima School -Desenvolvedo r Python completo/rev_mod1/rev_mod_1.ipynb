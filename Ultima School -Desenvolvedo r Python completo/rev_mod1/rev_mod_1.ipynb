{
 "cells": [
  {
   "cell_type": "markdown",
   "metadata": {},
   "source": [
    "\n",
    "REVISÃO DO 1º MÓDULO\n",
    "\n",
    "Tipos de dados básicos e fluxo de controle\n",
    "\n",
    "Tipos de dados complexos (listas, tuplas, dicionários)\n",
    "\n",
    "Funções e pacotes\n",
    "\n",
    "Classes e Programação Orientada a Objetos (POO)"
   ]
  },
  {
   "cell_type": "markdown",
   "metadata": {},
   "source": [
    "### Revisão if, else, elif\n",
    "\n",
    "https://www.youtube.com/watch?v=w6M7eWFWZcc"
   ]
  },
  {
   "cell_type": "code",
   "execution_count": 22,
   "metadata": {},
   "outputs": [
    {
     "name": "stdout",
     "output_type": "stream",
     "text": [
      "Ficar quietinho na cama!\n"
     ]
    }
   ],
   "source": [
    "#O que devo fazer quando acordar?\n",
    "\n",
    "devo_levantar = False\n",
    "esta_muito_frio = True\n",
    "esta_muito_quente =True\n",
    "if devo_levantar == True:\n",
    "    print('Levantar e preparar o café! (Extra forte)')\n",
    "elif esta_muito_frio == True:\n",
    "    print('Ficar quietinho na cama!')\n",
    "elif esta_muito_quente == True:\n",
    "    print('Aumentar o ventilador!')\n",
    "else: \n",
    "    print('Dormir')"
   ]
  },
  {
   "cell_type": "markdown",
   "metadata": {},
   "source": [
    "### Revisão if, else, elif\n",
    "\n",
    "https://www.youtube.com/watch?v=SCxPa1EAiY0"
   ]
  },
  {
   "cell_type": "code",
   "execution_count": 23,
   "metadata": {},
   "outputs": [
    {
     "name": "stdout",
     "output_type": "stream",
     "text": [
      "x vale 2\n"
     ]
    }
   ],
   "source": [
    "x = int(input(''))\n",
    "if x ==2:\n",
    "    print ('x vale 2')\n",
    "elif x == 3:\n",
    "    print ('x vale 3')\n",
    "else:\n",
    "    print ('x não vale 2 nem 3')\n",
    "    \n"
   ]
  },
  {
   "cell_type": "markdown",
   "metadata": {},
   "source": [
    "### Estrutura de repetição (Loops) FOR\n",
    "\n",
    "https://www.youtube.com/watch?v=ZHMixej8cEw "
   ]
  },
  {
   "cell_type": "code",
   "execution_count": 24,
   "metadata": {},
   "outputs": [
    {
     "name": "stdout",
     "output_type": "stream",
     "text": [
      "a\n",
      "ab\n",
      "abc\n",
      "abcd\n",
      "abcde\n"
     ]
    }
   ],
   "source": [
    "#declarando alguns iterables:\n",
    "my_str = 'strings sao ITERABLES'\n",
    "my_list = [10, 9, 8, 7 , 6 , 5 , 4 , 3 , 2 , 1]\n",
    "my_tuple = ('a','b','c',1 ,2,3)\n",
    "my_dict = {'a': 1, 'b': 2, 'c': 3, 'd': 4, 'e': 5}\n",
    "my_set =set(my_list)\n",
    "my_range = range(1,15)\n",
    "# exemplo de for loop\n",
    "soma_nums = 0\n",
    "str_concat = ''\n",
    "for elemento in my_dict:\n",
    "    if isinstance(elemento, int):\n",
    "        soma_nums += elemento\n",
    "        print(soma_nums)\n",
    "    elif isinstance(elemento, str):\n",
    "        str_concat += elemento\n",
    "        print(str_concat)\n"
   ]
  },
  {
   "cell_type": "markdown",
   "metadata": {},
   "source": [
    "### Estrutura de repetição (Loops) FOR (Melhor)\n",
    "https://www.youtube.com/watch?v=m4XgtArpc-8"
   ]
  },
  {
   "cell_type": "markdown",
   "metadata": {},
   "source": [
    "- Todo FOR em PYTHON é um \"for each\" (Para cada)\n",
    "- ITERABLE em python é um ''conjunto de coisas''"
   ]
  },
  {
   "cell_type": "code",
   "execution_count": 25,
   "metadata": {},
   "outputs": [
    {
     "name": "stdout",
     "output_type": "stream",
     "text": [
      "Faca\n",
      "Garfo\n",
      "Panela\n",
      "Frigideira\n",
      "Assadeira\n"
     ]
    }
   ],
   "source": [
    "# percorrer uma lista\n",
    "\n",
    "lista_produtos = ['faca','garfo','panela','frigideira','assadeira'] #lista de produtos\n",
    "for produto in lista_produtos: #para cada prouto na lista de produtos\n",
    "    print (produto.capitalize()) #imprima na tela o nome do produto com a primeira letra maiúscula\n"
   ]
  },
  {
   "cell_type": "code",
   "execution_count": 26,
   "metadata": {},
   "outputs": [
    {
     "name": "stdout",
     "output_type": "stream",
     "text": [
      "O Imposto é de R$ 1.00\n",
      "O Imposto é de R$ 1.00\n",
      "O Imposto é de R$ 20.00\n",
      "O Imposto é de R$ 5.00\n",
      "O Imposto é de R$ 30.00\n"
     ]
    }
   ],
   "source": [
    "# calcular o imposto sobre vários valores\n",
    "\n",
    "lista_precos = [10, 10, 200, 50, 300] #istando os preços e incluindo a lista na variavel lista_precos\n",
    "for preco in lista_precos: #para cada preco na lista de precos \n",
    "    imposto = preco *0.1 #o imposto é igual o preco *0.1 (10%)\n",
    "    print (f'O Imposto é de R$ {imposto:.2f}') #imprimndo e formatando o valor do imposto com duas casas decimais "
   ]
  },
  {
   "cell_type": "code",
   "execution_count": 27,
   "metadata": {},
   "outputs": [
    {
     "name": "stdout",
     "output_type": "stream",
     "text": [
      "faca\n",
      "10\n",
      "garfo\n",
      "10\n",
      "panela\n",
      "200\n",
      "frigideira\n",
      "50\n",
      "assaeira\n",
      "300\n"
     ]
    }
   ],
   "source": [
    "#percorrendo um dicionário\n",
    "\n",
    "produtos = {\n",
    "    'faca':10,\n",
    "    'garfo':10,\n",
    "    'panela': 200,\n",
    "    'frigideira':50,\n",
    "    'assaeira':300,\n",
    "}\n",
    "for produto in produtos: #para cada produto em produtos (ficionário)\n",
    "    print(produto) #exibe o prouto x':\n",
    "    print (produtos[produto])  #exibe o produo ampliado +1x ou seja o produto que está dentro do produto dentro do (dicionario) produtos"
   ]
  },
  {
   "cell_type": "code",
   "execution_count": 28,
   "metadata": {},
   "outputs": [
    {
     "name": "stdout",
     "output_type": "stream",
     "text": [
      "gleisonamorim1993@gmail.com\n",
      "gleisonamorim1993@gmail.com\n",
      "gleisonamorim1993@gmail.com\n",
      "gleisonamorim1993@gmail.com\n",
      "gleisonamorim1993@gmail.com\n"
     ]
    }
   ],
   "source": [
    "for _ in range(5): #exemplo de _ que foi utilizada para ser uma variável que 'não serve para nada'\n",
    "    print('gleisonamorim1993@gmail.com')\n",
    "    \n",
    "    #vai repetir meu e-mail 5 vezes"
   ]
  },
  {
   "cell_type": "markdown",
   "metadata": {},
   "source": [
    "### Exemplo prático - análise de vendas\n",
    "Vendas no arquivo venasloja.txt"
   ]
  },
  {
   "cell_type": "code",
   "execution_count": 29,
   "metadata": {},
   "outputs": [
    {
     "name": "stdout",
     "output_type": "stream",
     "text": [
      "O valor do faturamento é R$ 537984.00\n"
     ]
    }
   ],
   "source": [
    "with open('vendasloja.txt','r') as arquivo: #ver mais sobre with\n",
    "    texto = arquivo.read() #Incluinao na variável texto, lendo o arquivo \n",
    "lista_texto = texto.split('\\n') #\\n é enter em Pyhton\n",
    "\n",
    "faturamento = 0 #definindo o faturamento inicia para 0\n",
    "\n",
    "lista_texto = lista_texto [1:] #excluir a primeira linha do meu arquivo\n",
    "\n",
    "\n",
    "#para cada linha do meu arquivo\n",
    "for linha in lista_texto:\n",
    "    posicao_pv = linha.find(';') # pv = ponto e virgula\n",
    "    valor = float(linha[posicao_pv+1 :]) #indice - ponto e virgula +1 //    somar o valor que vem depois do ;\n",
    "    faturamento += valor# faturamento recebe faturamento + valor  \n",
    "print (f'O valor do faturamento é R$ {faturamento:.2f}') #imprimindo o total do faturamento \n"
   ]
  },
  {
   "cell_type": "markdown",
   "metadata": {},
   "source": [
    "WHILE - Enquanto\n",
    "\n",
    "https://www.youtube.com/watch?v=o-1ciQ_I8-4"
   ]
  },
  {
   "cell_type": "code",
   "execution_count": 30,
   "metadata": {},
   "outputs": [
    {
     "name": "stdout",
     "output_type": "stream",
     "text": [
      "1\n",
      "2\n",
      "3\n",
      "4\n",
      "5\n",
      "6\n",
      "7\n",
      "8\n",
      "9\n",
      "10\n",
      "Terminou, esse código foi repetido 10 vezes\n"
     ]
    }
   ],
   "source": [
    "# eu que pensei nesse\n",
    "\n",
    "\n",
    "for _ in range(1): #repetir o código abaixo 1 vez\n",
    "    while _ < 10: #enquanto a variável _ for menor que 10 faça (como não definí o valor da variável, ela começa em 0)\n",
    "        _ += 1 # a váriavel _ recebe ela mesma + 1\n",
    "        print (_) # imprima a posição atual (Repetindo desde o while)\n",
    "print(f'Terminou, esse código foi repetido {_} vezes') #quando o contador chegar a 10 repetições ele para e exibe essa mensagem\n",
    "\n",
    "      "
   ]
  },
  {
   "cell_type": "markdown",
   "metadata": {},
   "source": [
    "Listas[, , , ], Tuplas(, , , ), Dicionários{'chave':'valor}\n",
    "\n",
    "https://www.youtube.com/watch?v=0zYuLLIzPIQ"
   ]
  },
  {
   "cell_type": "code",
   "execution_count": 75,
   "metadata": {},
   "outputs": [
    {
     "name": "stdout",
     "output_type": "stream",
     "text": [
      "['carro', True, 2, 3.5]\n",
      "<class 'list'>\n",
      "True\n"
     ]
    }
   ],
   "source": [
    "#LISTA - Coleção coordenada e mutável. Permite membros duplicados\n",
    "#index      0       1   2   3\n",
    "lista = ['carro', True, 2, 3.5]\n",
    "print(lista)\n",
    "print(type(lista))\n",
    "print(lista[1])"
   ]
  },
  {
   "cell_type": "markdown",
   "metadata": {},
   "source": [
    "Tuplas (tuple)"
   ]
  },
  {
   "cell_type": "code",
   "execution_count": 76,
   "metadata": {},
   "outputs": [
    {
     "name": "stdout",
     "output_type": "stream",
     "text": [
      "('carro', True, 2, 3.5)\n",
      "<class 'tuple'>\n",
      "carro\n"
     ]
    }
   ],
   "source": [
    "#TUPLA - É uma coleção ordenada e imutável. Permite membros duplicados\n",
    "#index      0       1   2   3\n",
    "tupla = ('carro', True, 2, 3.5)\n",
    "print(tupla)\n",
    "print(type(tupla))\n",
    "print(tupla[0])\n"
   ]
  },
  {
   "cell_type": "markdown",
   "metadata": {},
   "source": [
    "Dicionários {dict}"
   ]
  },
  {
   "cell_type": "code",
   "execution_count": 79,
   "metadata": {},
   "outputs": [
    {
     "name": "stdout",
     "output_type": "stream",
     "text": [
      "{'nome': 'carro', 'logica': True, 'numerico': 2, 'outroNumero': 3.5}\n",
      "<class 'dict'>\n",
      "carro\n"
     ]
    }
   ],
   "source": [
    "# DICIONÁRIOS - Colação ordenada e mutável. Não permite membros duplicados\n",
    "#nos dicinários trabalhamos com chave e valor\n",
    "#index não existe, a forma de localização é através de chave : valor\n",
    "\n",
    "dicionario = {'nome':'carro', 'logica': True, 'numerico': 2, 'outroNumero': 3.5}\n",
    "print(dicionario)\n",
    "print(type(dicionario))\n",
    "print(dicionario['nome']) #pesquisa por chave e retorna valor\n"
   ]
  },
  {
   "cell_type": "markdown",
   "metadata": {},
   "source": [
    "Conjuntos {set}"
   ]
  },
  {
   "cell_type": "code",
   "execution_count": 1,
   "metadata": {},
   "outputs": [
    {
     "name": "stdout",
     "output_type": "stream",
     "text": [
      "{True, 2, 3.5, 'carro'}\n",
      "<class 'set'>\n"
     ]
    },
    {
     "ename": "TypeError",
     "evalue": "'set' object is not subscriptable",
     "output_type": "error",
     "traceback": [
      "\u001b[1;31m---------------------------------------------------------------------------\u001b[0m",
      "\u001b[1;31mTypeError\u001b[0m                                 Traceback (most recent call last)",
      "\u001b[1;32mc:\\Users\\GleisonAmorim\\OneDrive\\Área de Trabalho\\Ultima School - Desenvolvedor Pyhton\\Python\\Python\\Módulo 1 Introdução aos fundamentos do Python\\rev_mod1\\rev_mod_1.ipynb Célula 25\u001b[0m line \u001b[0;36m6\n\u001b[0;32m      <a href='vscode-notebook-cell:/c%3A/Users/GleisonAmorim/OneDrive/%C3%81rea%20de%20Trabalho/Ultima%20School%20-%20Desenvolvedor%20Pyhton/Python/Python/M%C3%B3dulo%201%20Introdu%C3%A7%C3%A3o%20aos%20fundamentos%20do%20Python/rev_mod1/rev_mod_1.ipynb#X33sZmlsZQ%3D%3D?line=3'>4</a>\u001b[0m \u001b[39mprint\u001b[39m(conjunto)\n\u001b[0;32m      <a href='vscode-notebook-cell:/c%3A/Users/GleisonAmorim/OneDrive/%C3%81rea%20de%20Trabalho/Ultima%20School%20-%20Desenvolvedor%20Pyhton/Python/Python/M%C3%B3dulo%201%20Introdu%C3%A7%C3%A3o%20aos%20fundamentos%20do%20Python/rev_mod1/rev_mod_1.ipynb#X33sZmlsZQ%3D%3D?line=4'>5</a>\u001b[0m \u001b[39mprint\u001b[39m(\u001b[39mtype\u001b[39m(conjunto))\n\u001b[1;32m----> <a href='vscode-notebook-cell:/c%3A/Users/GleisonAmorim/OneDrive/%C3%81rea%20de%20Trabalho/Ultima%20School%20-%20Desenvolvedor%20Pyhton/Python/Python/M%C3%B3dulo%201%20Introdu%C3%A7%C3%A3o%20aos%20fundamentos%20do%20Python/rev_mod1/rev_mod_1.ipynb#X33sZmlsZQ%3D%3D?line=5'>6</a>\u001b[0m \u001b[39mprint\u001b[39m(conjunto[\u001b[39m1\u001b[39;49m]) \u001b[39m#Não temos como localizar um valor específico do set - dá erro\u001b[39;00m\n",
      "\u001b[1;31mTypeError\u001b[0m: 'set' object is not subscriptable"
     ]
    }
   ],
   "source": [
    "#CONJUNTO - Coleção não ordenada e não indexada. Não permite membros duplicados\n",
    "#não possui index nem chave valor, \n",
    "conjunto = {'carro', True, 2, 3.5}\n",
    "print(conjunto)\n",
    "print(type(conjunto))\n",
    "print(conjunto[1]) #Não temos como localizar um valor específico do set - dá erro"
   ]
  },
  {
   "cell_type": "markdown",
   "metadata": {},
   "source": [
    "KWARGS"
   ]
  },
  {
   "cell_type": "markdown",
   "metadata": {},
   "source": []
  },
  {
   "cell_type": "code",
   "execution_count": null,
   "metadata": {},
   "outputs": [],
   "source": []
  },
  {
   "cell_type": "markdown",
   "metadata": {},
   "source": [
    "Funções"
   ]
  },
  {
   "cell_type": "code",
   "execution_count": 11,
   "metadata": {},
   "outputs": [],
   "source": [
    "def ajusta_texto(texto):\n",
    "    texto = texto.capitalize()\n",
    "    texto = texto.strip()\n",
    "    print(texto)\n",
    "    return texto\n",
    "\n",
    "def soma_numeros(x,y):\n",
    "    soma = x + y\n",
    "    return soma\n",
    "\n"
   ]
  },
  {
   "cell_type": "markdown",
   "metadata": {},
   "source": [
    "Classes\n",
    "\n",
    "https://www.youtube.com/watch?v=gomDSZaay3E\n",
    "\n",
    "Criando uma classe para clientes da Netflix"
   ]
  },
  {
   "cell_type": "code",
   "execution_count": 57,
   "metadata": {},
   "outputs": [
    {
     "name": "stdout",
     "output_type": "stream",
     "text": [
      "basic\n",
      "Faça upgrade para premium para ver esse filme\n",
      "premium\n",
      "Ver filme harry potter\n"
     ]
    }
   ],
   "source": [
    "class Cliente:\n",
    "    def __init__(self, nome, email, plano):\n",
    "        self.nome = nome\n",
    "        self.email = email\n",
    "        self.lista_planos = [\"basic\",\"premium\"] #lista de planos\n",
    "        if plano in self.lista_planos:\n",
    "            self.plano = plano\n",
    "        else:\n",
    "            raise Exception(\"Plano inválido\")\n",
    "        \n",
    "#função para mudar o plano\n",
    "    def mudar_plano(self, novo_plano):\n",
    "        if novo_plano in self.lista_planos:\n",
    "            self.plano = novo_plano\n",
    "        else:\n",
    "            print(\"Plano inválido\")\n",
    "            \n",
    "#função que compara se o filme escolhido está disponivel no plano do cliente               \n",
    "    def ver_filme(self, filme, plano_filme):\n",
    "        if self.plano == plano_filme:\n",
    "            print(f\"Ver filme {filme}\")\n",
    "        elif self.plano == \"premium\":\n",
    "            print(f\"Ver filme {filme}\")\n",
    "        elif self.plano ==\"basic\" and plano_filme ==\"premium\":\n",
    "         print(\"Faça upgrade para premium para ver esse filme\")\n",
    "        else:\n",
    "            print(\"Plano inválido\")\n",
    "        \n",
    "cliente = Cliente(\"Gleison\", \"gleisonamorim1993@gmail.com\", \"basic\")\n",
    "print(cliente.plano)\n",
    "cliente.ver_filme(\"harry potter\", \"premium\")\n",
    "\n",
    "#no botão de upgrade\n",
    "cliente.mudar_plano(\"premium\")\n",
    "print(cliente.plano)\n",
    "cliente.ver_filme(\"harry potter\", \"premium\")\n"
   ]
  }
 ],
 "metadata": {
  "kernelspec": {
   "display_name": "Python 3",
   "language": "python",
   "name": "python3"
  },
  "language_info": {
   "codemirror_mode": {
    "name": "ipython",
    "version": 3
   },
   "file_extension": ".py",
   "mimetype": "text/x-python",
   "name": "python",
   "nbconvert_exporter": "python",
   "pygments_lexer": "ipython3",
   "version": "3.12.0"
  }
 },
 "nbformat": 4,
 "nbformat_minor": 2
}
